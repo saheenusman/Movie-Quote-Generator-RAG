{
 "cells": [
  {
   "cell_type": "code",
   "execution_count": 7,
   "id": "1099d7bb",
   "metadata": {},
   "outputs": [],
   "source": [
    "import pandas as pd\n",
    "import numpy as np\n",
    "\n",
    "df=pd.read_csv('cleaned_movie_quotes.csv')"
   ]
  },
  {
   "cell_type": "code",
   "execution_count": 3,
   "id": "3b6b94dc",
   "metadata": {},
   "outputs": [
    {
     "data": {
      "text/plain": [
       "text              object\n",
       "character_name    object\n",
       "title             object\n",
       "year              object\n",
       "genres            object\n",
       "gender            object\n",
       "dtype: object"
      ]
     },
     "execution_count": 3,
     "metadata": {},
     "output_type": "execute_result"
    }
   ],
   "source": [
    "df.dtypes"
   ]
  },
  {
   "cell_type": "code",
   "execution_count": 8,
   "id": "cec068ed",
   "metadata": {},
   "outputs": [
    {
     "name": "stdout",
     "output_type": "stream",
     "text": [
      "[\"['comedy' 'romance']\", \"['comedy' 'romance']\", \"['comedy' 'romance']\", \"['comedy' 'romance']\", \"['comedy' 'romance']\", \"['comedy' 'romance']\", \"['comedy' 'romance']\", \"['comedy' 'romance']\", \"['comedy' 'romance']\", \"['comedy' 'romance']\"]\n"
     ]
    }
   ],
   "source": [
    "print(df['genres'].head(10).tolist())\n"
   ]
  },
  {
   "cell_type": "code",
   "execution_count": 10,
   "id": "cae81e18",
   "metadata": {},
   "outputs": [
    {
     "name": "stdout",
     "output_type": "stream",
     "text": [
      "          text character_name                       title  year  \\\n",
      "0  they do not         BIANCA  10 things i hate about you  1999   \n",
      "1   they do to        CAMERON  10 things i hate about you  1999   \n",
      "2    i hope so         BIANCA  10 things i hate about you  1999   \n",
      "3     she okay        CAMERON  10 things i hate about you  1999   \n",
      "4      lets go         BIANCA  10 things i hate about you  1999   \n",
      "\n",
      "              genres gender  \n",
      "0  [comedy, romance]      f  \n",
      "1  [comedy, romance]      m  \n",
      "2  [comedy, romance]      f  \n",
      "3  [comedy, romance]      m  \n",
      "4  [comedy, romance]      f  \n"
     ]
    }
   ],
   "source": [
    "import string\n",
    "import ast\n",
    "\n",
    "def parse_genres(genre_str):\n",
    "    if not isinstance(genre_str, str):\n",
    "        return ['unknown']\n",
    "    # Remove brackets and single quotes\n",
    "    cleaned = genre_str.strip(\"[]\").replace(\"'\", \"\").strip()\n",
    "    # Split by space\n",
    "    genres = [g.strip() for g in cleaned.split(' ') if g.strip() != '']\n",
    "    return genres if genres else ['unknown']\n",
    "\n",
    "def clean_text(text):\n",
    "    if not isinstance(text, str):\n",
    "        return ''\n",
    "    # Lowercase\n",
    "    text = text.lower()\n",
    "    # Remove punctuation\n",
    "    text = text.translate(str.maketrans('', '', string.punctuation))\n",
    "    # Strip whitespace\n",
    "    text = text.strip()\n",
    "    return text\n",
    "\n",
    "def clean_field(field):\n",
    "    if not isinstance(field, str):\n",
    "        return 'unknown'\n",
    "    field = field.strip()\n",
    "    if field == '?' or field == '':\n",
    "        return 'unknown'\n",
    "    return field\n",
    "\n",
    "# Apply cleaning\n",
    "df['text'] = df['text'].apply(clean_text)\n",
    "df['character_name'] = df['character_name'].apply(clean_field)\n",
    "df['title'] = df['title'].apply(clean_field)\n",
    "\n",
    "# Year is object type, so clean it to keep only digits or 'unknown'\n",
    "def clean_year(year):\n",
    "    if not isinstance(year, str):\n",
    "        return 'unknown'\n",
    "    year = year.strip()\n",
    "    if year == '?' or year == '':\n",
    "        return 'unknown'\n",
    "    # Keep only digits (some years might have weird formatting)\n",
    "    return ''.join(filter(str.isdigit, year)) or 'unknown'\n",
    "\n",
    "df['year'] = df['year'].apply(clean_year)\n",
    "\n",
    "# Clean gender column\n",
    "df['gender'] = df['gender'].apply(clean_field)\n",
    "\n",
    "# Parse genres column\n",
    "df['genres'] = df['genres'].apply(parse_genres)\n",
    "\n",
    "# Optional: check cleaned output\n",
    "print(df.head(5))"
   ]
  },
  {
   "cell_type": "code",
   "execution_count": 11,
   "id": "f83c72ef",
   "metadata": {},
   "outputs": [],
   "source": [
    "df.to_csv(\"cleaned_movie_quotes_final_i_think.csv\", index=False)"
   ]
  }
 ],
 "metadata": {
  "kernelspec": {
   "display_name": "autogen",
   "language": "python",
   "name": "python3"
  },
  "language_info": {
   "codemirror_mode": {
    "name": "ipython",
    "version": 3
   },
   "file_extension": ".py",
   "mimetype": "text/x-python",
   "name": "python",
   "nbconvert_exporter": "python",
   "pygments_lexer": "ipython3",
   "version": "3.10.16"
  }
 },
 "nbformat": 4,
 "nbformat_minor": 5
}
